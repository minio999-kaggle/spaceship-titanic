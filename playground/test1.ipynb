{
 "cells": [
  {
   "cell_type": "code",
   "execution_count": 3,
   "id": "e341dd92-24e0-4a32-919f-4ec7fa759992",
   "metadata": {},
   "outputs": [],
   "source": [
    "from sklearn.impute import SimpleImputer\n",
    "from sklearn.preprocessing import StandardScaler\n",
    "from sklearn.preprocessing import OrdinalEncoder\n",
    "import pandas as pd\n",
    "import numpy as np\n",
    "PATH = \"./data/train.csv\"\n",
    "\n",
    "def encode_to_float(df):\n",
    "    '''\n",
    "    encode categorical data to float since group and num in group are objects\n",
    "    Parameters:\n",
    "        dataframe (pandas.DataFrame): DataFrame on which to operate\n",
    "    Returns:\n",
    "        pandas.DataFrame\n",
    "    '''\n",
    "\n",
    "    df_objects = (df.dtypes == 'object')\n",
    "    object_cols = list(df_objects[df_objects].index)\n",
    "    ordinal_encoder = OrdinalEncoder()\n",
    "    df[object_cols] = ordinal_encoder.fit_transform(df[object_cols])\n",
    "    return df\n",
    "\n",
    "def scaling_features(df):\n",
    "    '''\n",
    "    Scaling features\n",
    "\n",
    "    Parameters:\n",
    "        df (pandas.DataFrame): Dataframe on which to operate\n",
    "    Returns:\n",
    "        pandas.DataFrame\n",
    "    '''\n",
    "\n",
    "    scaler = StandardScaler()\n",
    "    x_train = df.drop(['Transported'], axis=1)\n",
    "    scaler.fit(x_train)\n",
    "    scaled_data = scaler.transform(x_train)\n",
    "    scaled_data = pd.DataFrame(scaled_data, columns=x_train.columns)\n",
    "    scaled_data.insert(loc=0, column='Transported', value=df['Transported'])\n",
    "    return scaled_data\n",
    "\n",
    "def impute_features(df):\n",
    "    '''\n",
    "    Impute missing values in features\n",
    "\n",
    "    Parameters:\n",
    "        df (pandas.DataFrame): Dataframe on which to operate\n",
    "    Returns:\n",
    "        pandas.DataFrame\n",
    "    '''\n",
    "\n",
    "    imputer = SimpleImputer()\n",
    "    imputer.fit(df)\n",
    "    imputed_df = pd.DataFrame(imputer.transform(df))\n",
    "    imputed_df.columns = df.columns\n",
    "    return imputed_df\n",
    "\n",
    "def transform_data(df):\n",
    "    '''\n",
    "    Applying data cleaning functions to data sets\n",
    "\n",
    "    Paramters:\n",
    "        dataframe (pandas.DataFrame): Dataframe on which to operate\n",
    "    Retruns:\n",
    "        pandas.DataFrame\n",
    "    '''\n",
    "    df = encode_to_float(df)\n",
    "    df = scaling_features(df)\n",
    "    df = impute_features(df)\n",
    "    return df"
   ]
  },
  {
   "cell_type": "code",
   "execution_count": 41,
   "id": "c8fbe330-66fa-4c6e-8640-cc8e34d7f54a",
   "metadata": {},
   "outputs": [],
   "source": [
    "new_df = transform_data(pd.DataFrame({'test': [1,np.nan,3,4,5,6,np.nan,8,9,10,11,12],\n",
    "                'category': ['a','b','c','d','e','f','g','h','i','j','k','l'],\n",
    "                'Transported': [True, False, True, False, True, False, True, False, True, False, True, False]}))"
   ]
  },
  {
   "cell_type": "code",
   "execution_count": 42,
   "id": "71c0bdd7-491e-446a-a5d9-a99dce372e97",
   "metadata": {},
   "outputs": [
    {
     "data": {
      "text/plain": [
       "False"
      ]
     },
     "execution_count": 42,
     "metadata": {},
     "output_type": "execute_result"
    }
   ],
   "source": [
    "new_df.equals({'Transported': [1.0, 0.0, 1.0, 0.0, 1.0, 0.0, 1.0, 0.0, 1.0, 0.0, 1.0, 0.0],\n",
    "                        'test': [-1.69683206e+00, -1.77635684e-16, -1.12163475e+00, -8.34036097e-01,\n",
    "                                -5.46437443e-01, -2.58838789e-01, -1.77635684e-16,  3.16358520e-01,\n",
    "                                6.03957174e-01,  8.91555828e-01,  1.17915448e+00,  1.46675314e+00],\n",
    "                        'category': [-1.59325501, -1.30357228, -1.01388955, -0.72420682, -0.43452409,\n",
    "                                -0.14484136,  0.14484136,  0.43452409,  0.72420682,  1.01388955,\n",
    "                                1.30357228,  1.59325501] })"
   ]
  },
  {
   "cell_type": "code",
   "execution_count": 58,
   "id": "5a0ace43-6b55-432b-a2ee-723bc7eab1c9",
   "metadata": {},
   "outputs": [],
   "source": [
    "pr_df = pd.DataFrame({'Transported': [1.0, 0.0, 1.0, 0.0, 1.0, 0.0, 1.0, 0.0, 1.0, 0.0, 1.0, 0.0],\n",
    "                        'test': [-1.69683206e+00, -1.77635684e-16, -1.12163475e+00, -8.34036097e-01,\n",
    "                                -5.46437443e-01, -2.58838789e-01, -1.77635684e-16,  3.16358520e-01,\n",
    "                                6.03957174e-01,  8.91555828e-01,  1.17915448e+00,  1.46675314e+00],\n",
    "                        'category': [-1.59325501, -1.30357228, -1.01388955, -0.72420682, -0.43452409,\n",
    "                                -0.14484136,  0.14484136,  0.43452409,  0.72420682,  1.01388955,\n",
    "                                1.30357228,  1.59325501] })"
   ]
  },
  {
   "cell_type": "code",
   "execution_count": 59,
   "id": "e2326ed0-dd2c-48ea-a4e8-8a805e560bf8",
   "metadata": {},
   "outputs": [],
   "source": [
    "new_df == pd.DataFrame(pr_df)"
   ]
  },
  {
   "cell_type": "code",
   "execution_count": 50,
   "id": "948133c0-9d69-4573-ae96-b5fbd35ce54c",
   "metadata": {},
   "outputs": [
    {
     "data": {
      "text/plain": [
       "array([-1.59325501, -1.30357228, -1.01388955, -0.72420682, -0.43452409,\n",
       "       -0.14484136,  0.14484136,  0.43452409,  0.72420682,  1.01388955,\n",
       "        1.30357228,  1.59325501])"
      ]
     },
     "execution_count": 50,
     "metadata": {},
     "output_type": "execute_result"
    }
   ],
   "source": [
    "new_df['category'].values"
   ]
  },
  {
   "cell_type": "code",
   "execution_count": 52,
   "id": "58287d7f-92ca-40a4-a72e-3c50f161805d",
   "metadata": {},
   "outputs": [
    {
     "data": {
      "text/plain": [
       "array([-1.59325501, -1.30357228, -1.01388955, -0.72420682, -0.43452409,\n",
       "       -0.14484136,  0.14484136,  0.43452409,  0.72420682,  1.01388955,\n",
       "        1.30357228,  1.59325501])"
      ]
     },
     "execution_count": 52,
     "metadata": {},
     "output_type": "execute_result"
    }
   ],
   "source": [
    "new_df['category'].values\n",
    "new_df['category'].values"
   ]
  },
  {
   "cell_type": "code",
   "execution_count": 29,
   "id": "bed0b4b2-f749-40b8-8c3b-ba644e8fe375",
   "metadata": {},
   "outputs": [
    {
     "data": {
      "text/html": [
       "<div>\n",
       "<style scoped>\n",
       "    .dataframe tbody tr th:only-of-type {\n",
       "        vertical-align: middle;\n",
       "    }\n",
       "\n",
       "    .dataframe tbody tr th {\n",
       "        vertical-align: top;\n",
       "    }\n",
       "\n",
       "    .dataframe thead th {\n",
       "        text-align: right;\n",
       "    }\n",
       "</style>\n",
       "<table border=\"1\" class=\"dataframe\">\n",
       "  <thead>\n",
       "    <tr style=\"text-align: right;\">\n",
       "      <th></th>\n",
       "      <th>Transported</th>\n",
       "      <th>test</th>\n",
       "      <th>category</th>\n",
       "    </tr>\n",
       "  </thead>\n",
       "  <tbody>\n",
       "    <tr>\n",
       "      <th>0</th>\n",
       "      <td>1.0</td>\n",
       "      <td>-1.696832e+00</td>\n",
       "      <td>-1.593255</td>\n",
       "    </tr>\n",
       "    <tr>\n",
       "      <th>1</th>\n",
       "      <td>0.0</td>\n",
       "      <td>-1.776357e-16</td>\n",
       "      <td>-1.303572</td>\n",
       "    </tr>\n",
       "    <tr>\n",
       "      <th>2</th>\n",
       "      <td>1.0</td>\n",
       "      <td>-1.121635e+00</td>\n",
       "      <td>-1.013890</td>\n",
       "    </tr>\n",
       "    <tr>\n",
       "      <th>3</th>\n",
       "      <td>0.0</td>\n",
       "      <td>-8.340361e-01</td>\n",
       "      <td>-0.724207</td>\n",
       "    </tr>\n",
       "    <tr>\n",
       "      <th>4</th>\n",
       "      <td>1.0</td>\n",
       "      <td>-5.464374e-01</td>\n",
       "      <td>-0.434524</td>\n",
       "    </tr>\n",
       "    <tr>\n",
       "      <th>5</th>\n",
       "      <td>0.0</td>\n",
       "      <td>-2.588388e-01</td>\n",
       "      <td>-0.144841</td>\n",
       "    </tr>\n",
       "    <tr>\n",
       "      <th>6</th>\n",
       "      <td>1.0</td>\n",
       "      <td>-1.776357e-16</td>\n",
       "      <td>0.144841</td>\n",
       "    </tr>\n",
       "    <tr>\n",
       "      <th>7</th>\n",
       "      <td>0.0</td>\n",
       "      <td>3.163585e-01</td>\n",
       "      <td>0.434524</td>\n",
       "    </tr>\n",
       "    <tr>\n",
       "      <th>8</th>\n",
       "      <td>1.0</td>\n",
       "      <td>6.039572e-01</td>\n",
       "      <td>0.724207</td>\n",
       "    </tr>\n",
       "    <tr>\n",
       "      <th>9</th>\n",
       "      <td>0.0</td>\n",
       "      <td>8.915558e-01</td>\n",
       "      <td>1.013890</td>\n",
       "    </tr>\n",
       "    <tr>\n",
       "      <th>10</th>\n",
       "      <td>1.0</td>\n",
       "      <td>1.179154e+00</td>\n",
       "      <td>1.303572</td>\n",
       "    </tr>\n",
       "    <tr>\n",
       "      <th>11</th>\n",
       "      <td>0.0</td>\n",
       "      <td>1.466753e+00</td>\n",
       "      <td>1.593255</td>\n",
       "    </tr>\n",
       "  </tbody>\n",
       "</table>\n",
       "</div>"
      ],
      "text/plain": [
       "    Transported          test  category\n",
       "0           1.0 -1.696832e+00 -1.593255\n",
       "1           0.0 -1.776357e-16 -1.303572\n",
       "2           1.0 -1.121635e+00 -1.013890\n",
       "3           0.0 -8.340361e-01 -0.724207\n",
       "4           1.0 -5.464374e-01 -0.434524\n",
       "5           0.0 -2.588388e-01 -0.144841\n",
       "6           1.0 -1.776357e-16  0.144841\n",
       "7           0.0  3.163585e-01  0.434524\n",
       "8           1.0  6.039572e-01  0.724207\n",
       "9           0.0  8.915558e-01  1.013890\n",
       "10          1.0  1.179154e+00  1.303572\n",
       "11          0.0  1.466753e+00  1.593255"
      ]
     },
     "execution_count": 29,
     "metadata": {},
     "output_type": "execute_result"
    }
   ],
   "source": [
    "transform_data(pd.DataFrame({'test': [1,np.nan,3,4,5,6,np.nan,8,9,10,11,12],\n",
    "                'category': ['a','b','c','d','e','f','g','h','i','j','k','l'],\n",
    "                'Transported': [True, False, True, False, True, False, True, False, True, False, True, False]}))"
   ]
  },
  {
   "cell_type": "code",
   "execution_count": 55,
   "id": "03de3aa1-9f54-4934-a899-e0b2176b55e2",
   "metadata": {},
   "outputs": [
    {
     "ename": "AttributeError",
     "evalue": "'list' object has no attribute 'values'",
     "output_type": "error",
     "traceback": [
      "\u001b[0;31m---------------------------------------------------------------------------\u001b[0m",
      "\u001b[0;31mAttributeError\u001b[0m                            Traceback (most recent call last)",
      "Input \u001b[0;32mIn [55]\u001b[0m, in \u001b[0;36m<cell line: 1>\u001b[0;34m()\u001b[0m\n\u001b[0;32m----> 1\u001b[0m new_df[\u001b[38;5;124m'\u001b[39m\u001b[38;5;124mcategory\u001b[39m\u001b[38;5;124m'\u001b[39m]\u001b[38;5;241m.\u001b[39mvalues \u001b[38;5;241m==\u001b[39m \u001b[43mpr_df\u001b[49m\u001b[43m[\u001b[49m\u001b[38;5;124;43m'\u001b[39;49m\u001b[38;5;124;43mcategory\u001b[39;49m\u001b[38;5;124;43m'\u001b[39;49m\u001b[43m]\u001b[49m\u001b[38;5;241;43m.\u001b[39;49m\u001b[43mvalues\u001b[49m\n",
      "\u001b[0;31mAttributeError\u001b[0m: 'list' object has no attribute 'values'"
     ]
    }
   ],
   "source": [
    "new_df['category'].values == pr_df['category'].values"
   ]
  },
  {
   "cell_type": "code",
   "execution_count": 66,
   "id": "2c56e415-4ada-4d3b-8325-7db27bd987d2",
   "metadata": {},
   "outputs": [
    {
     "name": "stdout",
     "output_type": "stream",
     "text": [
      "None\n"
     ]
    }
   ],
   "source": [
    "from pandas.util.testing import assert_frame_equal\n",
    "print(assert_frame_equal(new_df,pr_df))"
   ]
  },
  {
   "cell_type": "code",
   "execution_count": 67,
   "id": "fd0e675e-7566-4ca8-a8cd-db340248f933",
   "metadata": {},
   "outputs": [
    {
     "data": {
      "text/plain": [
       "Transported    float64\n",
       "test           float64\n",
       "category       float64\n",
       "dtype: object"
      ]
     },
     "execution_count": 67,
     "metadata": {},
     "output_type": "execute_result"
    }
   ],
   "source": [
    "new_df.dtypes"
   ]
  },
  {
   "cell_type": "code",
   "execution_count": 68,
   "id": "276e2993-39f4-41c8-9503-ef2d77adcccc",
   "metadata": {},
   "outputs": [
    {
     "data": {
      "text/plain": [
       "Transported    float64\n",
       "test           float64\n",
       "category       float64\n",
       "dtype: object"
      ]
     },
     "execution_count": 68,
     "metadata": {},
     "output_type": "execute_result"
    }
   ],
   "source": [
    "pr_df.dtypes"
   ]
  },
  {
   "cell_type": "code",
   "execution_count": null,
   "id": "d0d40837-f4ff-4e73-b66f-28bf546846b8",
   "metadata": {},
   "outputs": [],
   "source": []
  }
 ],
 "metadata": {
  "kernelspec": {
   "display_name": "Python 3 (ipykernel)",
   "language": "python",
   "name": "python3"
  },
  "language_info": {
   "codemirror_mode": {
    "name": "ipython",
    "version": 3
   },
   "file_extension": ".py",
   "mimetype": "text/x-python",
   "name": "python",
   "nbconvert_exporter": "python",
   "pygments_lexer": "ipython3",
   "version": "3.9.12"
  }
 },
 "nbformat": 4,
 "nbformat_minor": 5
}
